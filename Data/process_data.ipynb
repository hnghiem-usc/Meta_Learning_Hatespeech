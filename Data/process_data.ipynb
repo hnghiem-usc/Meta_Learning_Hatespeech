{
 "cells": [
  {
   "cell_type": "code",
   "execution_count": 1,
   "id": "09f79636-e9c1-40d7-84a6-5a1d18fd6d69",
   "metadata": {},
   "outputs": [],
   "source": [
    "# Process and standardize data file to contrain \n",
    "# label_bin: numerical label for classification, 0 vs 1. \n",
    "# General strategy: Combine both train and test sets natively, then split later "
   ]
  },
  {
   "cell_type": "code",
   "execution_count": 2,
   "id": "6ce5d040-7ef7-495f-bf9e-789115862f72",
   "metadata": {},
   "outputs": [],
   "source": [
    "import pandas as pd, numpy as np \n",
    "import os, sys\n",
    "import random\n",
    "import torch\n",
    "\n",
    "sys.path.append(\"../Code/utils/\")\n",
    "from text_processing import process_tweet_bert\n",
    "from ekphrasis.classes.segmenter import Segmenter\n",
    "from sklearn.model_selection import train_test_split\n",
    "\n",
    "%load_ext autoreload\n",
    "%autoreload 2"
   ]
  },
  {
   "cell_type": "code",
   "execution_count": 3,
   "id": "7a70f05d-5c9e-4ba2-8804-865db48ee1f0",
   "metadata": {},
   "outputs": [],
   "source": [
    "from math import ceil\n",
    "def round_halfup(x): \n",
    "    if x >= 0.5: \n",
    "        return ceil(x)\n",
    "    return 0"
   ]
  },
  {
   "cell_type": "code",
   "execution_count": 4,
   "id": "8359b445-e11d-44f6-b3f0-b3358be0c19f",
   "metadata": {},
   "outputs": [],
   "source": [
    "def check_unique(f):\n",
    "    return f.shape[0] ==  len(np.unique(f.id))"
   ]
  },
  {
   "cell_type": "code",
   "execution_count": 5,
   "id": "3f148a5b-e8cc-4836-9bf5-df6d7c5a82a5",
   "metadata": {},
   "outputs": [
    {
     "name": "stdout",
     "output_type": "stream",
     "text": [
      "Reading english - 1grams ...\n",
      "Reading english - 2grams ...\n"
     ]
    },
    {
     "name": "stderr",
     "output_type": "stream",
     "text": [
      "//Users/hn/Desktop/COVID_Racism/env/lib/python3.8/site-packages/ekphrasis/classes/exmanager.py:14: FutureWarning: Possible nested set at position 42\n",
      "  regexes = {k.lower(): re.compile(self.expressions[k]) for k, v in\n"
     ]
    },
    {
     "name": "stdout",
     "output_type": "stream",
     "text": [
      "Reading twitter - 1grams ...\n",
      "Reading twitter - 2grams ...\n"
     ]
    }
   ],
   "source": [
    "# segmenter using the word statistics from english Wikipedia\n",
    "SEED=123\n",
    "K_test = 2000\n",
    "\n",
    "seg_eng = Segmenter(corpus=\"english\") \n",
    "seg_tw = Segmenter(corpus=\"twitter\") "
   ]
  },
  {
   "cell_type": "code",
   "execution_count": 6,
   "id": "4e12edc6-f48d-4e97-bb73-07c6dbf2519d",
   "metadata": {},
   "outputs": [],
   "source": [
    "std_columns = ['id','text_all','text_std',  'label_bin', 'label_orig', 'label_target']\n",
    "save_dir = 'Meta_data/Raw/'\n",
    "sep = ','"
   ]
  },
  {
   "cell_type": "code",
   "execution_count": 7,
   "id": "c31c9105-9117-4a75-a580-cecdb9ffcfc7",
   "metadata": {},
   "outputs": [],
   "source": [
    "def set_seed(seed):\n",
    "    random.seed(seed)\n",
    "    os.environ['PYTHONHASHSEED'] = str(seed)\n",
    "    np.random.seed(seed)"
   ]
  },
  {
   "cell_type": "code",
   "execution_count": 8,
   "id": "a5b740c1-745a-4c7c-beb1-7e44798a7c55",
   "metadata": {},
   "outputs": [],
   "source": [
    "def fill_text_na(df:pd.DataFrame, cols: list = ['text_std'], fill_value=' '):\n",
    "    \"\"\"\n",
    "        Fill text variables with space for tokenizer to work\n",
    "    \"\"\"\n",
    "    dt = df.copy()\n",
    "    dt[cols] =  df[cols].fillna(fill_value)\n",
    "    return dt"
   ]
  },
  {
   "cell_type": "markdown",
   "id": "aa5cda8b-26fe-4bd2-bcc4-118ee4e59776",
   "metadata": {},
   "source": [
    "### 1. DAVIDSON\n",
    "- all data in 1 file --> Take 2000 randomly as separate test file\n",
    "- Twitter\n",
    "- From author: these will be designated label_orig category <br>\n",
    "  0 - hate speech <br>\n",
    "  1 - offensive  language <br>\n",
    "  2 - neither"
   ]
  },
  {
   "cell_type": "code",
   "execution_count": 9,
   "id": "d80243d5-a959-409d-9763-3c8f6aa1d520",
   "metadata": {},
   "outputs": [],
   "source": [
    "d = pd.read_csv(\"Davidson/labeled_data.txt\", dtype={'class':int,  'tweet':str})\n",
    "del d['Unnamed: 0']\n",
    "d['id'] =  np.arange(d.shape[0]).astype(str)\n",
    "d['id'] = 'davidson_' +  d.id "
   ]
  },
  {
   "cell_type": "code",
   "execution_count": 10,
   "id": "5673c057-de69-4601-a8fb-e44b23ccb70b",
   "metadata": {},
   "outputs": [],
   "source": [
    "d['label_bin'] = d['class'].apply(lambda x: 0 if x== 2 else 1)"
   ]
  },
  {
   "cell_type": "code",
   "execution_count": 11,
   "id": "8ca06647-5fd0-4d7b-9be8-547841619d2d",
   "metadata": {},
   "outputs": [
    {
     "name": "stdout",
     "output_type": "stream",
     "text": [
      "(24783, 8)\n"
     ]
    },
    {
     "data": {
      "text/plain": [
       "<AxesSubplot:>"
      ]
     },
     "execution_count": 11,
     "metadata": {},
     "output_type": "execute_result"
    },
    {
     "data": {
      "image/png": "[encoded data removed]",
      "text/plain": [
       "<Figure size 432x288 with 1 Axes>"
      ]
     },
     "metadata": {
      "needs_background": "light"
     },
     "output_type": "display_data"
    }
   ],
   "source": [
    "print(d.shape)\n",
    "d.label_bin.hist()"
   ]
  },
  {
   "cell_type": "code",
   "execution_count": 12,
   "id": "3f4b5f69-02c7-4373-84e5-64629ed8d539",
   "metadata": {},
   "outputs": [
    {
     "data": {
      "text/html": [
       "<div>\n",
       "<style scoped>\n",
       "    .dataframe tbody tr th:only-of-type {\n",
       "        vertical-align: middle;\n",
       "    }\n",
       "\n",
       "    .dataframe tbody tr th {\n",
       "        vertical-align: top;\n",
       "    }\n",
       "\n",
       "    .dataframe thead th {\n",
       "        text-align: right;\n",
       "    }\n",
       "</style>\n",
       "<table border=\"1\" class=\"dataframe\">\n",
       "  <thead>\n",
       "    <tr style=\"text-align: right;\">\n",
       "      <th></th>\n",
       "      <th>count</th>\n",
       "      <th>hate_speech</th>\n",
       "      <th>offensive_language</th>\n",
       "      <th>neither</th>\n",
       "      <th>class</th>\n",
       "      <th>tweet</th>\n",
       "      <th>id</th>\n",
       "      <th>label_bin</th>\n",
       "      <th>text_std</th>\n",
       "      <th>text_all</th>\n",
       "    </tr>\n",
       "  </thead>\n",
       "  <tbody>\n",
       "    <tr>\n",
       "      <th>0</th>\n",
       "      <td>3</td>\n",
       "      <td>0</td>\n",
       "      <td>0</td>\n",
       "      <td>3</td>\n",
       "      <td>2</td>\n",
       "      <td>!!! RT @mayasolovely: As a woman you shouldn't...</td>\n",
       "      <td>davidson_0</td>\n",
       "      <td>0</td>\n",
       "      <td>!!! &lt;user&gt; as a woman you shouldn't complain a...</td>\n",
       "      <td>!!! RT @mayasolovely: As a woman you shouldn't...</td>\n",
       "    </tr>\n",
       "  </tbody>\n",
       "</table>\n",
       "</div>"
      ],
      "text/plain": [
       "   count  hate_speech  offensive_language  neither  class  \\\n",
       "0      3            0                   0        3      2   \n",
       "\n",
       "                                               tweet          id  label_bin  \\\n",
       "0  !!! RT @mayasolovely: As a woman you shouldn't...  davidson_0          0   \n",
       "\n",
       "                                            text_std  \\\n",
       "0  !!! <user> as a woman you shouldn't complain a...   \n",
       "\n",
       "                                            text_all  \n",
       "0  !!! RT @mayasolovely: As a woman you shouldn't...  "
      ]
     },
     "execution_count": 12,
     "metadata": {},
     "output_type": "execute_result"
    }
   ],
   "source": [
    "d['text_std'] = d.tweet.apply(lambda x: process_tweet_bert(x, dict(), seg_tw, verbose=False))\n",
    "d = fill_text_na(d)\n",
    "d['text_all'] = d.tweet\n",
    "d.head(1)"
   ]
  },
  {
   "cell_type": "code",
   "execution_count": 13,
   "id": "3815d6d5-3c3e-4748-9af2-40fe1455cfab",
   "metadata": {},
   "outputs": [],
   "source": [
    "set_seed(SEED)\n",
    "d['label_orig'] = d['class']"
   ]
  },
  {
   "cell_type": "code",
   "execution_count": 14,
   "id": "c066a3a0-042f-4fdb-bfcd-af57af008e37",
   "metadata": {},
   "outputs": [],
   "source": [
    "assert check_unique(d)\n",
    "d[[c for c in std_columns if c in d.columns]].to_csv(save_dir + \"davidson.csv\", index=None, sep=sep)"
   ]
  },
  {
   "cell_type": "code",
   "execution_count": 15,
   "id": "e7ed5c62-29fb-4e8c-8888-221f292965e9",
   "metadata": {},
   "outputs": [],
   "source": [
    "del d"
   ]
  },
  {
   "cell_type": "markdown",
   "id": "f0c1ea92-7854-4cac-8cd6-430210ee8023",
   "metadata": {},
   "source": [
    "## 2. TRAC\n",
    "- train/dev/test separate, facebook <br>\n",
    "- Orig Categories: 3 levels, NO TARGET <br>\n",
    "BINARY CONVERSION: \n",
    "- covert aggression to 1 <br>\n",
    "- aggression overt to 1 <br>\n",
    "- NOT aggression overt or covert aggression to 0 "
   ]
  },
  {
   "cell_type": "code",
   "execution_count": 16,
   "id": "27769b1d-c5bb-42d2-8496-dac5ac834a3e",
   "metadata": {},
   "outputs": [],
   "source": [
    "trac_cols = ['fbid', 'text', 'agg_lvl']\n",
    "t_train = pd.read_csv(\"Trac/english/agr_en_train.csv\", names=trac_cols)\n",
    "t_dev = pd.read_csv(\"Trac/english/agr_en_dev.csv\", names=trac_cols)"
   ]
  },
  {
   "cell_type": "code",
   "execution_count": 17,
   "id": "3967eb2a-345c-425a-a335-49a45a203b13",
   "metadata": {},
   "outputs": [],
   "source": [
    "t_test = pd.read_csv(\"Trac/trac-gold-set/agr_en_fb_gold.csv\", names=trac_cols) "
   ]
  },
  {
   "cell_type": "code",
   "execution_count": 18,
   "id": "02ff7559-702d-40c9-ba1a-f82e0d3e16c3",
   "metadata": {},
   "outputs": [],
   "source": [
    "trac = pd.concat([t_train, t_dev, t_test])\n",
    "trac['id'] = trac.fbid"
   ]
  },
  {
   "cell_type": "code",
   "execution_count": 19,
   "id": "2e1e164a-d5cf-4dc5-af94-4cfbd3502713",
   "metadata": {},
   "outputs": [],
   "source": [
    "trac['text_std'] = trac.text.apply(lambda x: process_tweet_bert(x, dict(), seg_tw, verbose=False))\n",
    "trac['text_all'] = trac.text"
   ]
  },
  {
   "cell_type": "code",
   "execution_count": 20,
   "id": "3c6efc99-c103-48c4-95a6-93254745c5d1",
   "metadata": {},
   "outputs": [
    {
     "name": "stdout",
     "output_type": "stream",
     "text": [
      "['OAG' 'NAG' 'CAG']\n"
     ]
    }
   ],
   "source": [
    "print(trac.agg_lvl.unique())\n",
    "trac_dict = {'NAG':0, 'CAG':1, 'OAG':2}\n",
    "trac['label_orig'] = trac.agg_lvl.apply(lambda x: trac_dict[x])"
   ]
  },
  {
   "cell_type": "code",
   "execution_count": 21,
   "id": "68383321-5680-4b9f-9127-a48730aa5d97",
   "metadata": {},
   "outputs": [],
   "source": [
    "trac['label_bin'] = trac.agg_lvl.apply(lambda x: 0 if x=='NAG' else 1) \n",
    "# trac = fill_text_na(trac)"
   ]
  },
  {
   "cell_type": "code",
   "execution_count": 22,
   "id": "a2c730e3-4f1a-41bf-9184-6b4d0a1999d6",
   "metadata": {},
   "outputs": [
    {
     "name": "stdout",
     "output_type": "stream",
     "text": [
      "(15916, 8)\n"
     ]
    },
    {
     "data": {
      "text/html": [
       "<div>\n",
       "<style scoped>\n",
       "    .dataframe tbody tr th:only-of-type {\n",
       "        vertical-align: middle;\n",
       "    }\n",
       "\n",
       "    .dataframe tbody tr th {\n",
       "        vertical-align: top;\n",
       "    }\n",
       "\n",
       "    .dataframe thead th {\n",
       "        text-align: right;\n",
       "    }\n",
       "</style>\n",
       "<table border=\"1\" class=\"dataframe\">\n",
       "  <thead>\n",
       "    <tr style=\"text-align: right;\">\n",
       "      <th></th>\n",
       "      <th>fbid</th>\n",
       "      <th>text</th>\n",
       "      <th>agg_lvl</th>\n",
       "      <th>id</th>\n",
       "      <th>text_std</th>\n",
       "      <th>text_all</th>\n",
       "      <th>label_orig</th>\n",
       "      <th>label_bin</th>\n",
       "    </tr>\n",
       "  </thead>\n",
       "  <tbody>\n",
       "    <tr>\n",
       "      <th>0</th>\n",
       "      <td>facebook_corpus_msr_1723796</td>\n",
       "      <td>Well said sonu..you have courage to stand agai...</td>\n",
       "      <td>OAG</td>\n",
       "      <td>facebook_corpus_msr_1723796</td>\n",
       "      <td>well said sonu..you have courage to stand agai...</td>\n",
       "      <td>Well said sonu..you have courage to stand agai...</td>\n",
       "      <td>2</td>\n",
       "      <td>1</td>\n",
       "    </tr>\n",
       "    <tr>\n",
       "      <th>1</th>\n",
       "      <td>facebook_corpus_msr_466073</td>\n",
       "      <td>Most of Private Banks ATM's Like HDFC, ICICI e...</td>\n",
       "      <td>NAG</td>\n",
       "      <td>facebook_corpus_msr_466073</td>\n",
       "      <td>most of private banks atm's like hdfc, icici e...</td>\n",
       "      <td>Most of Private Banks ATM's Like HDFC, ICICI e...</td>\n",
       "      <td>0</td>\n",
       "      <td>0</td>\n",
       "    </tr>\n",
       "  </tbody>\n",
       "</table>\n",
       "</div>"
      ],
      "text/plain": [
       "                          fbid  \\\n",
       "0  facebook_corpus_msr_1723796   \n",
       "1   facebook_corpus_msr_466073   \n",
       "\n",
       "                                                text agg_lvl  \\\n",
       "0  Well said sonu..you have courage to stand agai...     OAG   \n",
       "1  Most of Private Banks ATM's Like HDFC, ICICI e...     NAG   \n",
       "\n",
       "                            id  \\\n",
       "0  facebook_corpus_msr_1723796   \n",
       "1   facebook_corpus_msr_466073   \n",
       "\n",
       "                                            text_std  \\\n",
       "0  well said sonu..you have courage to stand agai...   \n",
       "1  most of private banks atm's like hdfc, icici e...   \n",
       "\n",
       "                                            text_all  label_orig  label_bin  \n",
       "0  Well said sonu..you have courage to stand agai...           2          1  \n",
       "1  Most of Private Banks ATM's Like HDFC, ICICI e...           0          0  "
      ]
     },
     "execution_count": 22,
     "metadata": {},
     "output_type": "execute_result"
    }
   ],
   "source": [
    "print(trac.shape)\n",
    "trac.head(2)"
   ]
  },
  {
   "cell_type": "code",
   "execution_count": 23,
   "id": "2578528a-4d50-41b0-b80f-9a5dcbf1663b",
   "metadata": {},
   "outputs": [
    {
     "data": {
      "text/plain": [
       "<AxesSubplot:>"
      ]
     },
     "execution_count": 23,
     "metadata": {},
     "output_type": "execute_result"
    },
    {
     "data": {
      "image/png": "[encoded data removed]",
      "text/plain": [
       "<Figure size 432x288 with 1 Axes>"
      ]
     },
     "metadata": {
      "needs_background": "light"
     },
     "output_type": "display_data"
    }
   ],
   "source": [
    "trac.label_bin.hist()"
   ]
  },
  {
   "cell_type": "code",
   "execution_count": 24,
   "id": "69394334-380a-4045-8b32-5fa235b3619b",
   "metadata": {},
   "outputs": [],
   "source": [
    "assert check_unique(trac)\n",
    "trac[[c for c in std_columns if c in trac.columns]].to_csv(save_dir + \"trac.csv\", index=None, sep=sep) "
   ]
  },
  {
   "cell_type": "code",
   "execution_count": 25,
   "id": "c1a53a1e-36ab-429d-aec2-d625b8a5d244",
   "metadata": {},
   "outputs": [],
   "source": [
    "del trac, t_train, t_dev, t_test, trac_cols, trac_dict"
   ]
  },
  {
   "cell_type": "markdown",
   "id": "33aa7b24-e2da-4df5-a590-dc9d900ce43c",
   "metadata": {},
   "source": [
    "### 3. JIGSAW - KAGGLE\n",
    "- MULTI, non-exclusive label --> How to distill to just 1 label \n",
    "-Original categories\n",
    "-- Toxic, servere_toxic, obscene, identity_hate, threat, insult (similar to Toxic API)\n"
   ]
  },
  {
   "cell_type": "code",
   "execution_count": 26,
   "id": "6ae738f5-aac6-4a1b-8951-33ce25c140c7",
   "metadata": {},
   "outputs": [],
   "source": [
    "## Founta paper only used the training set, which is plenty enough\n",
    "j_train = pd.read_csv(\"Jigsaw/train.csv\")\n",
    "# j_test_lbl = pd.read_csv(\"Jigsaw/test_labels.csv\")\n",
    "# j_test = pd.read_csv(\"Jigsaw/test.csv\")"
   ]
  },
  {
   "cell_type": "code",
   "execution_count": 27,
   "id": "b8ae9793-87b3-4678-8f68-7f74127dd2fe",
   "metadata": {},
   "outputs": [],
   "source": [
    "label_cols = ['toxic','severe_toxic','obscene','threat','insult','identity_hate']\n",
    "j_train['label_bin'] = j_train[label_cols].apply(lambda x: 0 if sum(x) == 0 else 1, axis=1)"
   ]
  },
  {
   "cell_type": "code",
   "execution_count": 28,
   "id": "9d97b370-8112-40d2-8b13-4dcb8ccc26bd",
   "metadata": {},
   "outputs": [],
   "source": [
    "j_labels = ['toxic','severe_toxic','obscene','threat','insult','identity_hate']\n",
    "j_train['label_orig'] = j_train[j_labels].apply(lambda x: [y for y in x], axis=1)"
   ]
  },
  {
   "cell_type": "code",
   "execution_count": 29,
   "id": "a46c97e7-cfad-4de8-af0a-8a3a0cd783c4",
   "metadata": {},
   "outputs": [],
   "source": [
    "j_train['text_std'] = j_train.comment_text.apply(lambda x: process_tweet_bert(x, dict(), seg_tw, verbose=False))\n",
    "j_train = fill_text_na(j_train) \n",
    "j_train['text_all'] = j_train.comment_text"
   ]
  },
  {
   "cell_type": "code",
   "execution_count": 30,
   "id": "0cba2b88-dd45-410b-a125-a0df87250a8e",
   "metadata": {},
   "outputs": [
    {
     "name": "stdout",
     "output_type": "stream",
     "text": [
      "(159571, 12)\n"
     ]
    },
    {
     "data": {
      "text/html": [
       "<div>\n",
       "<style scoped>\n",
       "    .dataframe tbody tr th:only-of-type {\n",
       "        vertical-align: middle;\n",
       "    }\n",
       "\n",
       "    .dataframe tbody tr th {\n",
       "        vertical-align: top;\n",
       "    }\n",
       "\n",
       "    .dataframe thead th {\n",
       "        text-align: right;\n",
       "    }\n",
       "</style>\n",
       "<table border=\"1\" class=\"dataframe\">\n",
       "  <thead>\n",
       "    <tr style=\"text-align: right;\">\n",
       "      <th></th>\n",
       "      <th>id</th>\n",
       "      <th>comment_text</th>\n",
       "      <th>toxic</th>\n",
       "      <th>severe_toxic</th>\n",
       "      <th>obscene</th>\n",
       "      <th>threat</th>\n",
       "      <th>insult</th>\n",
       "      <th>identity_hate</th>\n",
       "      <th>label_bin</th>\n",
       "      <th>label_orig</th>\n",
       "      <th>text_std</th>\n",
       "      <th>text_all</th>\n",
       "    </tr>\n",
       "  </thead>\n",
       "  <tbody>\n",
       "    <tr>\n",
       "      <th>0</th>\n",
       "      <td>0000997932d777bf</td>\n",
       "      <td>Explanation\\nWhy the edits made under my usern...</td>\n",
       "      <td>0</td>\n",
       "      <td>0</td>\n",
       "      <td>0</td>\n",
       "      <td>0</td>\n",
       "      <td>0</td>\n",
       "      <td>0</td>\n",
       "      <td>0</td>\n",
       "      <td>[0, 0, 0, 0, 0, 0]</td>\n",
       "      <td>explanation why the edits made under my userna...</td>\n",
       "      <td>Explanation\\nWhy the edits made under my usern...</td>\n",
       "    </tr>\n",
       "    <tr>\n",
       "      <th>1</th>\n",
       "      <td>000103f0d9cfb60f</td>\n",
       "      <td>D'aww! He matches this background colour I'm s...</td>\n",
       "      <td>0</td>\n",
       "      <td>0</td>\n",
       "      <td>0</td>\n",
       "      <td>0</td>\n",
       "      <td>0</td>\n",
       "      <td>0</td>\n",
       "      <td>0</td>\n",
       "      <td>[0, 0, 0, 0, 0, 0]</td>\n",
       "      <td>d'&lt;url&gt; he matches this background colour i'm ...</td>\n",
       "      <td>D'aww! He matches this background colour I'm s...</td>\n",
       "    </tr>\n",
       "  </tbody>\n",
       "</table>\n",
       "</div>"
      ],
      "text/plain": [
       "                 id                                       comment_text  toxic  \\\n",
       "0  0000997932d777bf  Explanation\\nWhy the edits made under my usern...      0   \n",
       "1  000103f0d9cfb60f  D'aww! He matches this background colour I'm s...      0   \n",
       "\n",
       "   severe_toxic  obscene  threat  insult  identity_hate  label_bin  \\\n",
       "0             0        0       0       0              0          0   \n",
       "1             0        0       0       0              0          0   \n",
       "\n",
       "           label_orig                                           text_std  \\\n",
       "0  [0, 0, 0, 0, 0, 0]  explanation why the edits made under my userna...   \n",
       "1  [0, 0, 0, 0, 0, 0]  d'<url> he matches this background colour i'm ...   \n",
       "\n",
       "                                            text_all  \n",
       "0  Explanation\\nWhy the edits made under my usern...  \n",
       "1  D'aww! He matches this background colour I'm s...  "
      ]
     },
     "execution_count": 30,
     "metadata": {},
     "output_type": "execute_result"
    }
   ],
   "source": [
    "print(j_train.shape)\n",
    "j_train.head(2)"
   ]
  },
  {
   "cell_type": "code",
   "execution_count": 31,
   "id": "82c7801e-d887-4e93-a898-07073b74531d",
   "metadata": {},
   "outputs": [
    {
     "data": {
      "text/plain": [
       "<AxesSubplot:>"
      ]
     },
     "execution_count": 31,
     "metadata": {},
     "output_type": "execute_result"
    },
    {
     "data": {
      "image/png": "[encoded data removed]",
      "text/plain": [
       "<Figure size 432x288 with 1 Axes>"
      ]
     },
     "metadata": {
      "needs_background": "light"
     },
     "output_type": "display_data"
    }
   ],
   "source": [
    "j_train.label_bin.hist()"
   ]
  },
  {
   "cell_type": "code",
   "execution_count": 32,
   "id": "bb7d5da8-2d2b-41d2-b24f-38dc69a49e58",
   "metadata": {},
   "outputs": [],
   "source": [
    "assert check_unique(j_train)\n",
    "j_train[[c for c in std_columns if c in j_train.columns]].to_csv(save_dir + \"jigsaw.csv\", index=None,sep=sep)"
   ]
  },
  {
   "cell_type": "code",
   "execution_count": 33,
   "id": "cb1ea221-2763-4546-96cf-d17e76ead767",
   "metadata": {},
   "outputs": [],
   "source": [
    "del j_train"
   ]
  },
  {
   "cell_type": "markdown",
   "id": "ce79665a-e27b-4945-bd86-5944f65bfa01",
   "metadata": {},
   "source": [
    "## 4. FOUNTA \n",
    "- Twitter\n",
    "- Original categories 4 categories: \n",
    "-- spam, abusive, normal, hateful "
   ]
  },
  {
   "cell_type": "code",
   "execution_count": 34,
   "id": "9c2ab593-c4e9-498a-9f55-476410cbca46",
   "metadata": {},
   "outputs": [],
   "source": [
    "founta = pd.read_csv('Founta/hatespeech_text_label_vote_RESTRICTED_100K.csv', sep=\"\\t\", \n",
    "                  names = ['text', 'label', 'num_ant'], dtype=str)"
   ]
  },
  {
   "cell_type": "code",
   "execution_count": 35,
   "id": "aa39afdf-ea4f-4a32-b511-12be2d02507b",
   "metadata": {},
   "outputs": [],
   "source": [
    "founta['id'] = np.arange(founta.shape[0]).astype(str)\n",
    "founta['id'] = 'founta_' + founta.id"
   ]
  },
  {
   "cell_type": "code",
   "execution_count": 36,
   "id": "ae154a61-f7c7-4b6f-801b-765538594fab",
   "metadata": {},
   "outputs": [],
   "source": [
    "founta_dict = {'spam':0, 'abusive':2, 'normal':1, 'hateful':3}\n",
    "founta['label_orig'] = founta.label.apply(lambda x: founta_dict[x])"
   ]
  },
  {
   "cell_type": "code",
   "execution_count": 37,
   "id": "6d4cbf2e-1c4e-4824-88eb-e93b70e86ba8",
   "metadata": {},
   "outputs": [],
   "source": [
    "founta['label_bin'] = founta.label.apply(lambda x: 0 if x in ('spam','normal') else 1)"
   ]
  },
  {
   "cell_type": "code",
   "execution_count": 38,
   "id": "b3723244-06d6-459f-a323-23a9a55f1b5e",
   "metadata": {},
   "outputs": [],
   "source": [
    "founta['text_std'] = founta.text.apply(lambda x: process_tweet_bert(x, dict(), seg_tw, verbose=False))\n",
    "founta = fill_text_na(founta)\n",
    "founta['text_all'] = founta.text"
   ]
  },
  {
   "cell_type": "code",
   "execution_count": 39,
   "id": "593c519e-7178-42e3-8757-ab09399d9c84",
   "metadata": {},
   "outputs": [
    {
     "data": {
      "text/html": [
       "<div>\n",
       "<style scoped>\n",
       "    .dataframe tbody tr th:only-of-type {\n",
       "        vertical-align: middle;\n",
       "    }\n",
       "\n",
       "    .dataframe tbody tr th {\n",
       "        vertical-align: top;\n",
       "    }\n",
       "\n",
       "    .dataframe thead th {\n",
       "        text-align: right;\n",
       "    }\n",
       "</style>\n",
       "<table border=\"1\" class=\"dataframe\">\n",
       "  <thead>\n",
       "    <tr style=\"text-align: right;\">\n",
       "      <th></th>\n",
       "      <th>text</th>\n",
       "      <th>label</th>\n",
       "      <th>num_ant</th>\n",
       "      <th>id</th>\n",
       "      <th>label_orig</th>\n",
       "      <th>label_bin</th>\n",
       "      <th>text_std</th>\n",
       "      <th>text_all</th>\n",
       "    </tr>\n",
       "  </thead>\n",
       "  <tbody>\n",
       "    <tr>\n",
       "      <th>0</th>\n",
       "      <td>Beats by Dr. Dre urBeats Wired In-Ear Headphon...</td>\n",
       "      <td>spam</td>\n",
       "      <td>4</td>\n",
       "      <td>founta_0</td>\n",
       "      <td>0</td>\n",
       "      <td>0</td>\n",
       "      <td>beats by dr. dre urbeats wired in-ear headphon...</td>\n",
       "      <td>Beats by Dr. Dre urBeats Wired In-Ear Headphon...</td>\n",
       "    </tr>\n",
       "    <tr>\n",
       "      <th>1</th>\n",
       "      <td>RT @Papapishu: Man it would fucking rule if we...</td>\n",
       "      <td>abusive</td>\n",
       "      <td>4</td>\n",
       "      <td>founta_1</td>\n",
       "      <td>2</td>\n",
       "      <td>1</td>\n",
       "      <td>&lt;user&gt; man it would fucking rule if we had a p...</td>\n",
       "      <td>RT @Papapishu: Man it would fucking rule if we...</td>\n",
       "    </tr>\n",
       "    <tr>\n",
       "      <th>2</th>\n",
       "      <td>It is time to draw close to Him &amp;#128591;&amp;#127...</td>\n",
       "      <td>normal</td>\n",
       "      <td>4</td>\n",
       "      <td>founta_2</td>\n",
       "      <td>1</td>\n",
       "      <td>0</td>\n",
       "      <td>it is time to draw close to him &amp; 128591;&amp; 127...</td>\n",
       "      <td>It is time to draw close to Him &amp;#128591;&amp;#127...</td>\n",
       "    </tr>\n",
       "  </tbody>\n",
       "</table>\n",
       "</div>"
      ],
      "text/plain": [
       "                                                text    label num_ant  \\\n",
       "0  Beats by Dr. Dre urBeats Wired In-Ear Headphon...     spam       4   \n",
       "1  RT @Papapishu: Man it would fucking rule if we...  abusive       4   \n",
       "2  It is time to draw close to Him &#128591;&#127...   normal       4   \n",
       "\n",
       "         id  label_orig  label_bin  \\\n",
       "0  founta_0           0          0   \n",
       "1  founta_1           2          1   \n",
       "2  founta_2           1          0   \n",
       "\n",
       "                                            text_std  \\\n",
       "0  beats by dr. dre urbeats wired in-ear headphon...   \n",
       "1  <user> man it would fucking rule if we had a p...   \n",
       "2  it is time to draw close to him & 128591;& 127...   \n",
       "\n",
       "                                            text_all  \n",
       "0  Beats by Dr. Dre urBeats Wired In-Ear Headphon...  \n",
       "1  RT @Papapishu: Man it would fucking rule if we...  \n",
       "2  It is time to draw close to Him &#128591;&#127...  "
      ]
     },
     "execution_count": 39,
     "metadata": {},
     "output_type": "execute_result"
    },
    {
     "data": {
      "image/png": "[encoded data removed]",
      "text/plain": [
       "<Figure size 432x288 with 1 Axes>"
      ]
     },
     "metadata": {
      "needs_background": "light"
     },
     "output_type": "display_data"
    }
   ],
   "source": [
    "founta.label_bin.hist()\n",
    "founta.head(3)"
   ]
  },
  {
   "cell_type": "code",
   "execution_count": 40,
   "id": "f3c288c8-04a0-45f0-b8b1-658d9d883e62",
   "metadata": {},
   "outputs": [],
   "source": [
    "assert check_unique(founta)\n",
    "founta[[c for c in std_columns if c in founta.columns]].to_csv(save_dir + \"founta.csv\", index=None, sep=sep)"
   ]
  },
  {
   "cell_type": "code",
   "execution_count": 41,
   "id": "c98d13cd-668f-43f1-9a0a-592f69278171",
   "metadata": {},
   "outputs": [],
   "source": [
    "del founta "
   ]
  },
  {
   "cell_type": "markdown",
   "id": "021810f8-4bec-45c4-9dbe-dc277c795088",
   "metadata": {},
   "source": [
    "## 5.  HATEVAL\n",
    "- Twitter\n",
    "- Original categories: multilevel, similar to OLID \n",
    "-- HS - a binary value indicating if HS is occurring against one of the given targets (women\n",
    "or immigrants): 1 if occurs, 0 if not. --> equivalent to label_bin\n",
    "-- Target Range - if HS occurs (i.e. the value\n",
    "for the feature HS is 1), a binary value indicating if the target is a generic group of people (0) or a specific individual (1).\n",
    "-- Aggressiveness - if HS occurs (i.e. the value\n",
    "for the feature HS is 1), a binary value indicating if the tweeter is aggressive (1) or\n",
    "not (0)."
   ]
  },
  {
   "cell_type": "code",
   "execution_count": 42,
   "id": "1e1d9f2e-81fd-415d-859b-7e989c322203",
   "metadata": {},
   "outputs": [],
   "source": [
    "h_train = pd.read_csv(\"Hateval/hateval2019_en_train.csv\")\n",
    "h_dev = pd.read_csv(\"Hateval/hateval2019_en_dev.csv\")\n",
    "# h_test = pd.read_csv(\"Hateval/hateval2019_en_test.csv\")\n",
    "hateval = pd.concat([h_train, h_dev])"
   ]
  },
  {
   "cell_type": "code",
   "execution_count": 43,
   "id": "a4e025a6-0110-4054-8a2c-02ff7b763280",
   "metadata": {},
   "outputs": [],
   "source": [
    "hateval['label_bin'] = hateval.HS\n",
    "hateval['label_target'] = hateval.TR"
   ]
  },
  {
   "cell_type": "code",
   "execution_count": 44,
   "id": "225120c2-0d6f-4c9c-bd53-4078cfeed2c5",
   "metadata": {},
   "outputs": [],
   "source": [
    "hateval['text_std'] =  hateval.text.apply(lambda x: process_tweet_bert(x, dict(), seg_tw, verbose=False))\n",
    "hateval = fill_text_na(hateval)\n",
    "hateval['text_all'] = hateval.text"
   ]
  },
  {
   "cell_type": "code",
   "execution_count": 45,
   "id": "8d00d1ef-16f2-409d-8370-dd55536b8ec6",
   "metadata": {},
   "outputs": [],
   "source": [
    "hateval['label_orig'] = hateval.HS\n",
    "hateval.label_orig = hateval.label_orig + hateval.AG"
   ]
  },
  {
   "cell_type": "code",
   "execution_count": 46,
   "id": "151800ea-91ee-47da-9f9e-a48298f832fb",
   "metadata": {},
   "outputs": [
    {
     "data": {
      "text/html": [
       "<div>\n",
       "<style scoped>\n",
       "    .dataframe tbody tr th:only-of-type {\n",
       "        vertical-align: middle;\n",
       "    }\n",
       "\n",
       "    .dataframe tbody tr th {\n",
       "        vertical-align: top;\n",
       "    }\n",
       "\n",
       "    .dataframe thead th {\n",
       "        text-align: right;\n",
       "    }\n",
       "</style>\n",
       "<table border=\"1\" class=\"dataframe\">\n",
       "  <thead>\n",
       "    <tr style=\"text-align: right;\">\n",
       "      <th></th>\n",
       "      <th>id</th>\n",
       "      <th>text</th>\n",
       "      <th>HS</th>\n",
       "      <th>TR</th>\n",
       "      <th>AG</th>\n",
       "      <th>label_bin</th>\n",
       "      <th>label_target</th>\n",
       "      <th>text_std</th>\n",
       "      <th>text_all</th>\n",
       "      <th>label_orig</th>\n",
       "    </tr>\n",
       "  </thead>\n",
       "  <tbody>\n",
       "    <tr>\n",
       "      <th>0</th>\n",
       "      <td>201</td>\n",
       "      <td>Hurray, saving us $$$ in so many ways @potus @...</td>\n",
       "      <td>1</td>\n",
       "      <td>0</td>\n",
       "      <td>0</td>\n",
       "      <td>1</td>\n",
       "      <td>0</td>\n",
       "      <td>hurray, saving us $$$ in so many ways &lt;user&gt; l...</td>\n",
       "      <td>Hurray, saving us $$$ in so many ways @potus @...</td>\n",
       "      <td>1</td>\n",
       "    </tr>\n",
       "    <tr>\n",
       "      <th>1</th>\n",
       "      <td>202</td>\n",
       "      <td>Why would young fighting age men be the vast m...</td>\n",
       "      <td>1</td>\n",
       "      <td>0</td>\n",
       "      <td>0</td>\n",
       "      <td>1</td>\n",
       "      <td>0</td>\n",
       "      <td>why would young fighting age men be the vast m...</td>\n",
       "      <td>Why would young fighting age men be the vast m...</td>\n",
       "      <td>1</td>\n",
       "    </tr>\n",
       "  </tbody>\n",
       "</table>\n",
       "</div>"
      ],
      "text/plain": [
       "    id                                               text  HS  TR  AG  \\\n",
       "0  201  Hurray, saving us $$$ in so many ways @potus @...   1   0   0   \n",
       "1  202  Why would young fighting age men be the vast m...   1   0   0   \n",
       "\n",
       "   label_bin  label_target                                           text_std  \\\n",
       "0          1             0  hurray, saving us $$$ in so many ways <user> l...   \n",
       "1          1             0  why would young fighting age men be the vast m...   \n",
       "\n",
       "                                            text_all  label_orig  \n",
       "0  Hurray, saving us $$$ in so many ways @potus @...           1  \n",
       "1  Why would young fighting age men be the vast m...           1  "
      ]
     },
     "execution_count": 46,
     "metadata": {},
     "output_type": "execute_result"
    }
   ],
   "source": [
    "hateval.head(2)"
   ]
  },
  {
   "cell_type": "code",
   "execution_count": 47,
   "id": "361e506a-73c7-4e6d-be5b-07cc58fb73cc",
   "metadata": {},
   "outputs": [
    {
     "name": "stdout",
     "output_type": "stream",
     "text": [
      "(10000, 10)\n"
     ]
    },
    {
     "data": {
      "text/plain": [
       "<AxesSubplot:>"
      ]
     },
     "execution_count": 47,
     "metadata": {},
     "output_type": "execute_result"
    },
    {
     "data": {
      "image/png": "[encoded data removed]",
      "text/plain": [
       "<Figure size 432x288 with 1 Axes>"
      ]
     },
     "metadata": {
      "needs_background": "light"
     },
     "output_type": "display_data"
    }
   ],
   "source": [
    "print(hateval.shape)\n",
    "hateval.label_bin.hist()"
   ]
  },
  {
   "cell_type": "code",
   "execution_count": 48,
   "id": "b5d060ac-61f5-405f-98ca-c93c39d1bf9c",
   "metadata": {},
   "outputs": [],
   "source": [
    "# hateval[[c for c in std_columns if c in hateval.columns]]"
   ]
  },
  {
   "cell_type": "code",
   "execution_count": 49,
   "id": "e91707e7-7530-49ed-8758-42e2c2053b75",
   "metadata": {},
   "outputs": [],
   "source": [
    "assert check_unique(hateval)\n",
    "hateval[[c for c in std_columns if c in hateval.columns]].to_csv(save_dir + \"hateval.csv\", index=None, sep=sep)"
   ]
  },
  {
   "cell_type": "code",
   "execution_count": 50,
   "id": "c3ae60cc-7338-4688-a6fb-8fc22ab91fac",
   "metadata": {},
   "outputs": [],
   "source": [
    "del h_train, h_dev, hateval"
   ]
  },
  {
   "cell_type": "markdown",
   "id": "344977fb-8e0c-4260-9a35-f873d88a8632",
   "metadata": {},
   "source": [
    "## 6. OLID/ OFFENSEVAL\n",
    "- Multi level-hierachical annotation\n",
    "- Test set independent, but small\n",
    "- Subtask a corresponds to binary label \n",
    "- LEVEL 1: used for binary\n",
    "- LEVEL 2 : used for label_orig conversion: 0: (NOT,_), 1: (OFF, UNT), 2:(OFF, TIN)\n",
    "- LEVEL 3: target"
   ]
  },
  {
   "cell_type": "code",
   "execution_count": 51,
   "id": "d67f82a6-52d9-495f-a4a8-cfe4c6636919",
   "metadata": {},
   "outputs": [],
   "source": [
    "label_dict = {'NOT':0, 'OFF':1, 'NA': 0,'TIN':1, 'UNT':2, 'GRP':1, 'IND':2, 'OTH':3}\n",
    "olid_train = pd.read_csv('Olid/olid-training-v1.0.tsv', delimiter='\\t')"
   ]
  },
  {
   "cell_type": "code",
   "execution_count": 52,
   "id": "61f58549-0d90-4aca-83f1-9e8f6d996cc9",
   "metadata": {},
   "outputs": [],
   "source": [
    "olid_train = olid_train.fillna('NA')\n",
    "olid_train[['label_a', 'label_b', 'label_c']] = np.NAN\n",
    "temp =  [olid_train[c].apply(lambda x: label_dict[x]) for c in ['subtask_a','subtask_b','subtask_c']]\n",
    "olid_train.label_a, olid_train.label_b, olid_train.label_c = temp"
   ]
  },
  {
   "cell_type": "code",
   "execution_count": 53,
   "id": "4c43fdb5-3195-49be-b008-46aea7e0c052",
   "metadata": {},
   "outputs": [
    {
     "data": {
      "text/html": [
       "<div>\n",
       "<style scoped>\n",
       "    .dataframe tbody tr th:only-of-type {\n",
       "        vertical-align: middle;\n",
       "    }\n",
       "\n",
       "    .dataframe tbody tr th {\n",
       "        vertical-align: top;\n",
       "    }\n",
       "\n",
       "    .dataframe thead th {\n",
       "        text-align: right;\n",
       "    }\n",
       "</style>\n",
       "<table border=\"1\" class=\"dataframe\">\n",
       "  <thead>\n",
       "    <tr style=\"text-align: right;\">\n",
       "      <th>subtask_c</th>\n",
       "      <th>GRP</th>\n",
       "      <th>IND</th>\n",
       "      <th>NA</th>\n",
       "      <th>OTH</th>\n",
       "    </tr>\n",
       "    <tr>\n",
       "      <th>subtask_a</th>\n",
       "      <th></th>\n",
       "      <th></th>\n",
       "      <th></th>\n",
       "      <th></th>\n",
       "    </tr>\n",
       "  </thead>\n",
       "  <tbody>\n",
       "    <tr>\n",
       "      <th>NOT</th>\n",
       "      <td>0</td>\n",
       "      <td>0</td>\n",
       "      <td>8840</td>\n",
       "      <td>0</td>\n",
       "    </tr>\n",
       "    <tr>\n",
       "      <th>OFF</th>\n",
       "      <td>1074</td>\n",
       "      <td>2407</td>\n",
       "      <td>524</td>\n",
       "      <td>395</td>\n",
       "    </tr>\n",
       "  </tbody>\n",
       "</table>\n",
       "</div>"
      ],
      "text/plain": [
       "subtask_c   GRP   IND    NA  OTH\n",
       "subtask_a                       \n",
       "NOT           0     0  8840    0\n",
       "OFF        1074  2407   524  395"
      ]
     },
     "execution_count": 53,
     "metadata": {},
     "output_type": "execute_result"
    }
   ],
   "source": [
    "pd.crosstab(olid_train.subtask_a, olid_train.subtask_c)"
   ]
  },
  {
   "cell_type": "code",
   "execution_count": 54,
   "id": "65b306b7-ce79-4d26-879d-514a32835c63",
   "metadata": {},
   "outputs": [],
   "source": [
    "olid_train['label_bin'] = olid_train.label_a \n",
    "olid_train['label_orig'] = olid_train.label_b"
   ]
  },
  {
   "cell_type": "code",
   "execution_count": 55,
   "id": "3fe7f754-a5b8-4c99-abbe-115a791d1e3a",
   "metadata": {},
   "outputs": [
    {
     "data": {
      "text/html": [
       "<div>\n",
       "<style scoped>\n",
       "    .dataframe tbody tr th:only-of-type {\n",
       "        vertical-align: middle;\n",
       "    }\n",
       "\n",
       "    .dataframe tbody tr th {\n",
       "        vertical-align: top;\n",
       "    }\n",
       "\n",
       "    .dataframe thead th {\n",
       "        text-align: right;\n",
       "    }\n",
       "</style>\n",
       "<table border=\"1\" class=\"dataframe\">\n",
       "  <thead>\n",
       "    <tr style=\"text-align: right;\">\n",
       "      <th>subtask_c</th>\n",
       "      <th>GRP</th>\n",
       "      <th>IND</th>\n",
       "      <th>NA</th>\n",
       "      <th>OTH</th>\n",
       "    </tr>\n",
       "    <tr>\n",
       "      <th>label_target</th>\n",
       "      <th></th>\n",
       "      <th></th>\n",
       "      <th></th>\n",
       "      <th></th>\n",
       "    </tr>\n",
       "  </thead>\n",
       "  <tbody>\n",
       "    <tr>\n",
       "      <th>0</th>\n",
       "      <td>0</td>\n",
       "      <td>0</td>\n",
       "      <td>9364</td>\n",
       "      <td>0</td>\n",
       "    </tr>\n",
       "    <tr>\n",
       "      <th>1</th>\n",
       "      <td>1074</td>\n",
       "      <td>0</td>\n",
       "      <td>0</td>\n",
       "      <td>0</td>\n",
       "    </tr>\n",
       "    <tr>\n",
       "      <th>2</th>\n",
       "      <td>0</td>\n",
       "      <td>2407</td>\n",
       "      <td>0</td>\n",
       "      <td>0</td>\n",
       "    </tr>\n",
       "    <tr>\n",
       "      <th>3</th>\n",
       "      <td>0</td>\n",
       "      <td>0</td>\n",
       "      <td>0</td>\n",
       "      <td>395</td>\n",
       "    </tr>\n",
       "  </tbody>\n",
       "</table>\n",
       "</div>"
      ],
      "text/plain": [
       "subtask_c      GRP   IND    NA  OTH\n",
       "label_target                       \n",
       "0                0     0  9364    0\n",
       "1             1074     0     0    0\n",
       "2                0  2407     0    0\n",
       "3                0     0     0  395"
      ]
     },
     "execution_count": 55,
     "metadata": {},
     "output_type": "execute_result"
    }
   ],
   "source": [
    "olid_train['label_target'] = olid_train.label_c\n",
    "pd.crosstab(olid_train.label_target, olid_train.subtask_c)"
   ]
  },
  {
   "cell_type": "code",
   "execution_count": 56,
   "id": "d878e36a-dac5-4708-85e6-6e8567878bc8",
   "metadata": {},
   "outputs": [],
   "source": [
    "olid_train['text_std'] = olid_train.tweet.apply(lambda x: process_tweet_bert(x, dict(), seg_tw, verbose=False))\n",
    "olid_train = fill_text_na(olid_train)\n",
    "olid_train['text_all'] = olid_train.tweet"
   ]
  },
  {
   "cell_type": "code",
   "execution_count": 57,
   "id": "fdf98db3-b069-4480-b6b1-2bf3fe224a3d",
   "metadata": {},
   "outputs": [],
   "source": [
    "assert check_unique(olid_train)\n",
    "olid_train[[c for c in std_columns if c in olid_train.columns]].to_csv(save_dir + \"olid.csv\", index=None, sep=sep)"
   ]
  },
  {
   "cell_type": "code",
   "execution_count": 58,
   "id": "ae5cc87c-d149-4cf2-94cb-19d1b0e34fc2",
   "metadata": {},
   "outputs": [],
   "source": [
    "del olid_train, label_dict"
   ]
  },
  {
   "cell_type": "markdown",
   "id": "76ef483f-a396-4b11-9712-02cce755c6a8",
   "metadata": {},
   "source": [
    "## 7. STORMFRONT - de GilBert\n",
    "Orig category: binary hate vs note hate"
   ]
  },
  {
   "cell_type": "code",
   "execution_count": 59,
   "id": "0775bc10-6c9d-4dc0-a148-62ff5840af55",
   "metadata": {},
   "outputs": [],
   "source": [
    "newfile = open('Stormfront/stormfront_all.txt', 'w+')\n",
    "for file in os.listdir('Stormfront/all_files'):\n",
    "    if 'txt' in file:\n",
    "        fid = file.split('.')[0]\n",
    "        l = open(\"Stormfront/all_files/\"+file).readline()\n",
    "        line = fid+'\\t'+l+'\\n'\n",
    "        newfile.write(line)\n",
    "newfile.close()\n",
    "    "
   ]
  },
  {
   "cell_type": "code",
   "execution_count": 60,
   "id": "5bc37b18-bcd6-4e78-bc97-96868628a9b9",
   "metadata": {},
   "outputs": [],
   "source": [
    "sf = pd.read_csv(\"Stormfront/stormfront_all.txt\", names=['id','text'], dtype=str, delimiter='\\t')"
   ]
  },
  {
   "cell_type": "code",
   "execution_count": 61,
   "id": "f0af0438-53f2-4914-b2a7-20c117f5396c",
   "metadata": {},
   "outputs": [],
   "source": [
    "sf_annot = pd.read_csv(\"Stormfront/annotations_metadata.csv\")"
   ]
  },
  {
   "cell_type": "code",
   "execution_count": 62,
   "id": "4aca7460-4adf-405b-b908-c5e69612480f",
   "metadata": {},
   "outputs": [],
   "source": [
    "assert sf_annot.file_id.nunique() == sf_annot.shape[0]"
   ]
  },
  {
   "cell_type": "code",
   "execution_count": 63,
   "id": "6d772663-afc7-466b-9ebd-d4c70106213d",
   "metadata": {},
   "outputs": [],
   "source": [
    "sf_orig_shape = sf.shape\n",
    "sf = pd.merge(sf, left_on='id', right=sf_annot, right_on='file_id', how='left')\n",
    "assert sf_orig_shape[0] == sf.shape[0]"
   ]
  },
  {
   "cell_type": "code",
   "execution_count": 64,
   "id": "c361ebf0-2223-4b0f-ac79-3bc914700a7f",
   "metadata": {},
   "outputs": [
    {
     "data": {
      "text/plain": [
       "array(['noHate', 'idk/skip', 'relation', 'hate', nan], dtype=object)"
      ]
     },
     "execution_count": 64,
     "metadata": {},
     "output_type": "execute_result"
    }
   ],
   "source": [
    "sf.label.unique()"
   ]
  },
  {
   "cell_type": "code",
   "execution_count": 65,
   "id": "fb466ac9-015d-4cb0-b3c8-3813dc2c6910",
   "metadata": {},
   "outputs": [
    {
     "data": {
      "text/plain": [
       "<AxesSubplot:>"
      ]
     },
     "execution_count": 65,
     "metadata": {},
     "output_type": "execute_result"
    },
    {
     "data": {
      "image/png": "[encoded data removed]",
      "text/plain": [
       "<Figure size 432x288 with 1 Axes>"
      ]
     },
     "metadata": {
      "needs_background": "light"
     },
     "output_type": "display_data"
    }
   ],
   "source": [
    "sf['label_bin'] = sf.label.apply(lambda x: 1 if x == 'hate' else 0)\n",
    "sf.label_bin.hist()"
   ]
  },
  {
   "cell_type": "markdown",
   "id": "51f02e06-51e9-4e50-9d30-5dbb246f0b86",
   "metadata": {},
   "source": [
    "Note: way too few positive samples. Considered discarding...."
   ]
  },
  {
   "cell_type": "code",
   "execution_count": 66,
   "id": "d4fa5b66-ce44-4452-bc37-0e7ef58c3dfd",
   "metadata": {},
   "outputs": [],
   "source": [
    "del newfile, sf, sf_annot"
   ]
  },
  {
   "cell_type": "markdown",
   "id": "f50ee42d-24ca-4edf-b689-d2e5ed0d786c",
   "metadata": {},
   "source": [
    "## 8. METOO\n",
    "- Twitter: only tweetids given, many tweets already deleted\n",
    "- First level: directed vs generalized hate \n",
    "- Relevance, Directed Hate, Generalized Hate, Sarcasm, Allegation, Justification, ,Refutation, Support,Oppose"
   ]
  },
  {
   "cell_type": "code",
   "execution_count": 67,
   "id": "a376e9e1-7130-490a-809a-f8ad5de09df0",
   "metadata": {},
   "outputs": [],
   "source": [
    "metoo_annot = pd.read_csv(\"MeToo/MeTOOMA.csv\")"
   ]
  },
  {
   "cell_type": "code",
   "execution_count": 68,
   "id": "0535ff3b-e758-4a13-a561-77e42b4a8803",
   "metadata": {},
   "outputs": [],
   "source": [
    "metoo_tweetids = metoo_annot[['TweetId']]\n",
    "metoo_tweetids.columns = ['tweetid']\n",
    "metoo_tweetids.to_csv(\"MeToo/metoo_tweetids.csv\", index=None, sep=sep)"
   ]
  },
  {
   "cell_type": "code",
   "execution_count": 69,
   "id": "f98d26d5-9ec2-419b-b258-bfc758686b36",
   "metadata": {},
   "outputs": [],
   "source": [
    "metoo_tweets = pd.read_csv('MeToo/MeToo_tweets.csv')[['id','text']]"
   ]
  },
  {
   "cell_type": "code",
   "execution_count": 70,
   "id": "7785b35c-354d-4d13-8cbb-fe5cb0ba3524",
   "metadata": {},
   "outputs": [],
   "source": [
    "metoo = pd.merge(left = metoo_annot, left_on='TweetId', right=metoo_tweets, right_on='id')"
   ]
  },
  {
   "cell_type": "code",
   "execution_count": 71,
   "id": "72abd154-3563-4b92-a495-5264c074fbe3",
   "metadata": {},
   "outputs": [],
   "source": [
    "metoo['label_bin'] = metoo[['Directed_Hate',\t'Generalized_Hate']].apply(lambda x: 1 if sum(x) > 0 else 0, axis=1)"
   ]
  },
  {
   "cell_type": "code",
   "execution_count": 72,
   "id": "3f251006-fdbd-4693-a19b-eef2331cf89f",
   "metadata": {},
   "outputs": [
    {
     "data": {
      "text/plain": [
       "<AxesSubplot:>"
      ]
     },
     "execution_count": 72,
     "metadata": {},
     "output_type": "execute_result"
    },
    {
     "data": {
      "image/png": "[encoded data removed]",
      "text/plain": [
       "<Figure size 432x288 with 1 Axes>"
      ]
     },
     "metadata": {
      "needs_background": "light"
     },
     "output_type": "display_data"
    }
   ],
   "source": [
    "metoo.label_bin.hist()"
   ]
  },
  {
   "cell_type": "code",
   "execution_count": 73,
   "id": "2d5f6b7c-ad17-45fc-b528-509e29a51796",
   "metadata": {},
   "outputs": [],
   "source": [
    "del metoo, metoo_annot, metoo_tweetids, metoo_tweets"
   ]
  },
  {
   "cell_type": "markdown",
   "id": "57397973-3c15-4c64-a3b8-fa0a072afb5c",
   "metadata": {},
   "source": [
    "## 9. WASEEM\n",
    "- Twitter: racism and sexism\n",
    "- Originally 16K tweets, now only 10k left as of Oct 2022\n",
    "\n",
    "** NOTE: WASEEM HAS SOME WEIRD ENCODING: pre-process text before saving"
   ]
  },
  {
   "cell_type": "code",
   "execution_count": 74,
   "id": "ffddfdeb-71a9-431c-864e-8e4a5afd19b3",
   "metadata": {},
   "outputs": [],
   "source": [
    "waseem_all = pd.read_csv(\"Waseem/NAACL_SRW_2016.csv\", names=['tweetid','label'])"
   ]
  },
  {
   "cell_type": "code",
   "execution_count": 75,
   "id": "002fba5d-740f-4861-a6fb-7754eea8e092",
   "metadata": {},
   "outputs": [],
   "source": [
    "# waseem_all[['tweetid']].to_csv(\"Waseem/waseem_tweetids.csv\", index=None, header=None)"
   ]
  },
  {
   "cell_type": "code",
   "execution_count": 76,
   "id": "2cb10adb-8df4-4418-abba-28b62bf3dc1c",
   "metadata": {},
   "outputs": [],
   "source": [
    "waseem_labels = waseem_all.groupby('tweetid').label.max().reset_index()"
   ]
  },
  {
   "cell_type": "code",
   "execution_count": 77,
   "id": "9e83375c-3926-448a-9651-cc8390603f74",
   "metadata": {},
   "outputs": [],
   "source": [
    "waseem_dict = {'none':0, 'sexism':1, 'racism':2}\n",
    "waseem_labels['label_bin'] = waseem_labels.label.apply(lambda x : 0 if x == 'none' else 1)\n",
    "waseem_labels['label_orig'] = waseem_labels.label.apply(lambda x: waseem_dict[x])"
   ]
  },
  {
   "cell_type": "code",
   "execution_count": 78,
   "id": "8af51403-423f-487f-8553-fdeb4ce6cf47",
   "metadata": {},
   "outputs": [],
   "source": [
    "# waseem = waseem_all.groupby('tweetid').label_bin.max().reset_index()"
   ]
  },
  {
   "cell_type": "code",
   "execution_count": 79,
   "id": "53b2bd68-e5b9-4056-92b3-a9a0d4f72ef1",
   "metadata": {},
   "outputs": [],
   "source": [
    "waseem_tweets = pd.read_csv(\"Waseem/waseem_tweets.csv\")[['id', 'text']]\n",
    "waseem_tweets.columns = ['tweetid', 'text']"
   ]
  },
  {
   "cell_type": "code",
   "execution_count": 80,
   "id": "b091b70d-7250-4787-848f-90da7cb2b044",
   "metadata": {},
   "outputs": [],
   "source": [
    "waseem = pd.merge(left=waseem_labels, left_on='tweetid', right=waseem_tweets, right_on='tweetid')"
   ]
  },
  {
   "cell_type": "code",
   "execution_count": 81,
   "id": "e43573f2-4f69-421a-9286-e130329bc389",
   "metadata": {},
   "outputs": [],
   "source": [
    "waseem = waseem.drop_duplicates().reset_index()\n",
    "waseem['id'] = 'waseem_' + waseem.tweetid.astype(str)"
   ]
  },
  {
   "cell_type": "code",
   "execution_count": 82,
   "id": "0e74c90d-1eb9-44ca-923c-2c54eb559855",
   "metadata": {},
   "outputs": [
    {
     "data": {
      "text/plain": [
       "<AxesSubplot:>"
      ]
     },
     "execution_count": 82,
     "metadata": {},
     "output_type": "execute_result"
    },
    {
     "data": {
      "image/png": "[encoded data removed]",
      "text/plain": [
       "<Figure size 432x288 with 1 Axes>"
      ]
     },
     "metadata": {
      "needs_background": "light"
     },
     "output_type": "display_data"
    }
   ],
   "source": [
    "waseem.label_bin.hist()"
   ]
  },
  {
   "cell_type": "code",
   "execution_count": 83,
   "id": "2ac36abf-7dab-471f-8ceb-cac1dbd824d4",
   "metadata": {},
   "outputs": [],
   "source": [
    "waseem['text_std'] = waseem.text.apply(lambda x: process_tweet_bert(x, dict(), seg_tw, verbose=False))\n",
    "waseem['text_all']  = waseem.text.apply(lambda x: x.encode(\"utf-8\"))"
   ]
  },
  {
   "cell_type": "code",
   "execution_count": 84,
   "id": "cccc07da-874c-487c-9248-faf43b628ddc",
   "metadata": {},
   "outputs": [],
   "source": [
    "#drop all rows without a label_bin \n",
    "waseem = waseem[waseem.label_bin == waseem.label_bin]\n",
    "assert check_unique(waseem)\n",
    "waseem[[c for c in std_columns if c in waseem.columns]].to_csv(save_dir + \"waseem.csv\", index=None, sep=sep)"
   ]
  },
  {
   "cell_type": "markdown",
   "id": "d4b5af99-9baa-4bde-90bd-53be4318f029",
   "metadata": {
    "tags": []
   },
   "source": [
    "## 10. GOLBECK \n",
    "- Twitter\n",
    "- Original class: Harrasment or Not "
   ]
  },
  {
   "cell_type": "code",
   "execution_count": 85,
   "id": "f393518b-9a8d-4a6a-8c49-4b660331382a",
   "metadata": {},
   "outputs": [],
   "source": [
    "d = pd.read_csv(\"Goldbeck/onlineHarassmentDataset.tdf\", sep='\\t', encoding='latin-1')\n",
    "d = d[['ID','Code','Tweet']]  "
   ]
  },
  {
   "cell_type": "code",
   "execution_count": 86,
   "id": "49e7b27e-8e86-4034-b93b-5935774f6139",
   "metadata": {},
   "outputs": [],
   "source": [
    "goldbeck_dict = {'H':1, 'N':0}\n",
    "d['id'] = 'goldbeck_' + d.ID.astype(str)"
   ]
  },
  {
   "cell_type": "code",
   "execution_count": 87,
   "id": "2ac901dd-3535-488f-9a23-b818c8b9e12c",
   "metadata": {},
   "outputs": [
    {
     "data": {
      "text/plain": [
       "<AxesSubplot:>"
      ]
     },
     "execution_count": 87,
     "metadata": {},
     "output_type": "execute_result"
    },
    {
     "data": {
      "image/png": "[encoded data removed]",
      "text/plain": [
       "<Figure size 432x288 with 1 Axes>"
      ]
     },
     "metadata": {
      "needs_background": "light"
     },
     "output_type": "display_data"
    }
   ],
   "source": [
    "d['label_bin'] = d.Code.apply(lambda x: goldbeck_dict[x])\n",
    "d['label_orig'] = d.label_bin\n",
    "d['text_all']  = d.Tweet.apply(lambda x: x.encode(\"utf-8\").decode('utf-8'))\n",
    "d.label_bin.hist()"
   ]
  },
  {
   "cell_type": "code",
   "execution_count": 88,
   "id": "69c429fd-f2f2-4287-9f4b-d679f0bb7e4d",
   "metadata": {},
   "outputs": [],
   "source": [
    "d['text_std'] = d.Tweet.apply(lambda x: process_tweet_bert(x, dict(), seg_tw, verbose=False))"
   ]
  },
  {
   "cell_type": "code",
   "execution_count": 89,
   "id": "a128c2df-efac-4236-b411-2b5d236cc713",
   "metadata": {},
   "outputs": [],
   "source": [
    "assert check_unique(d)\n",
    "d[[c for c in std_columns if c in d.columns]].to_csv(save_dir + 'goldbeck.csv', sep=sep)\n",
    "del d"
   ]
  },
  {
   "cell_type": "markdown",
   "id": "2ce16dc7-9ff5-4b90-83fe-939ed29bf3e8",
   "metadata": {},
   "source": [
    "## 11.  Gab_Kennedy\n",
    "- GAB\n",
    "- “assaults on human dignity” (HD)\n",
    "- “calls for violence” (CV)\n",
    "- \"vulgarity/ offensive\"  (VO)\n",
    "- Also multiple levels of targets: RAE, NAT, GEN, REL, SXO, IDL, POL, MPH, EX, IM"
   ]
  },
  {
   "cell_type": "code",
   "execution_count": 90,
   "id": "5ae7f221-2372-4ca2-9a26-d8a773b594a6",
   "metadata": {},
   "outputs": [
    {
     "name": "stdout",
     "output_type": "stream",
     "text": [
      "(27546, 4)\n"
     ]
    }
   ],
   "source": [
    "# using train only dataset\n",
    "k_train  = pd.read_csv(\"Gab_kennedy/ghc_train.tsv\", sep='\\t')\n",
    "k_test  = pd.read_csv(\"Gab_kennedy/ghc_test.tsv\", sep='\\t')\n",
    "k = pd.concat([k_train,k_test])\n",
    "k_targets = ['REL', 'RAE','SXO', 'GEN', 'IDL', 'NAT', 'POL', 'MPH', 'EX', 'IM']\n",
    "print(k.shape)"
   ]
  },
  {
   "cell_type": "code",
   "execution_count": 91,
   "id": "6d663ec2-5e27-4316-ad12-6025c7bf47de",
   "metadata": {},
   "outputs": [],
   "source": [
    "# Aggreegate by majority for target label\n",
    "ka = pd.read_csv(\"Gab_kennedy/GabHateCorpus_annotations.tsv\", sep=\"\\t\")\n",
    "ka.fillna(0, inplace=True) "
   ]
  },
  {
   "cell_type": "code",
   "execution_count": 92,
   "id": "bc7fbfb1-3383-42be-8094-3b89a9418cf2",
   "metadata": {},
   "outputs": [],
   "source": [
    "# target is binary ?\n",
    "assert all([t == set((0.,1)) for t in [set(ka[c].unique().tolist()) for c in ['REL', 'RAE'] ]])"
   ]
  },
  {
   "cell_type": "code",
   "execution_count": 93,
   "id": "20a4e666-1e20-45bb-90bb-5d999ddbad85",
   "metadata": {},
   "outputs": [],
   "source": [
    "# targert is rounded up if at least half of annotators agree\n",
    "k_temp = ka.groupby('ID')[k_targets].sum() / ka.groupby('ID')[k_targets].count()\n",
    "k_temp = k_temp.applymap(round_halfup)"
   ]
  },
  {
   "cell_type": "code",
   "execution_count": 94,
   "id": "900ade9c-7cdc-48f1-9bab-1673360b4b54",
   "metadata": {},
   "outputs": [],
   "source": [
    "k = pd.merge(left=k, left_index=True, right=k_temp, right_index=True, how='inner')\n",
    "k.columns = [c.lower() for c in k.columns]"
   ]
  },
  {
   "cell_type": "code",
   "execution_count": 95,
   "id": "7bf22873-e43a-4cf7-8037-3074d92316d2",
   "metadata": {},
   "outputs": [],
   "source": [
    "k = k.drop_duplicates().reset_index()\n",
    "\n",
    "k['id'] =  'gab_kennedy_' + k.index.astype(str)\n",
    "k['label_orig'] = k[['hd','cv','vo']].apply(lambda x: [y for y in  x.values], axis=1)\n",
    "k['label_bin'] = k[['hd','cv', 'vo']].apply(lambda x: 1 if np.max(x) == 1 else 0, axis=1)"
   ]
  },
  {
   "cell_type": "code",
   "execution_count": 96,
   "id": "d763e7e2-5692-472d-813b-be985075ef32",
   "metadata": {},
   "outputs": [],
   "source": [
    "k_targets =[c.lower() for c in k_targets] \n",
    "k['label_target'] = k[k_targets].apply(lambda x: [y for y in  x.values], axis=1)"
   ]
  },
  {
   "cell_type": "code",
   "execution_count": 97,
   "id": "2b9c950a-615f-4596-87ca-31a39b21c573",
   "metadata": {},
   "outputs": [
    {
     "data": {
      "text/html": [
       "<div>\n",
       "<style scoped>\n",
       "    .dataframe tbody tr th:only-of-type {\n",
       "        vertical-align: middle;\n",
       "    }\n",
       "\n",
       "    .dataframe tbody tr th {\n",
       "        vertical-align: top;\n",
       "    }\n",
       "\n",
       "    .dataframe thead th {\n",
       "        text-align: right;\n",
       "    }\n",
       "</style>\n",
       "<table border=\"1\" class=\"dataframe\">\n",
       "  <thead>\n",
       "    <tr style=\"text-align: right;\">\n",
       "      <th></th>\n",
       "      <th>index</th>\n",
       "      <th>text</th>\n",
       "      <th>hd</th>\n",
       "      <th>cv</th>\n",
       "      <th>vo</th>\n",
       "      <th>rel</th>\n",
       "      <th>rae</th>\n",
       "      <th>sxo</th>\n",
       "      <th>gen</th>\n",
       "      <th>idl</th>\n",
       "      <th>...</th>\n",
       "      <th>pol</th>\n",
       "      <th>mph</th>\n",
       "      <th>ex</th>\n",
       "      <th>im</th>\n",
       "      <th>id</th>\n",
       "      <th>label_orig</th>\n",
       "      <th>label_bin</th>\n",
       "      <th>label_target</th>\n",
       "      <th>text_std</th>\n",
       "      <th>text_all</th>\n",
       "    </tr>\n",
       "  </thead>\n",
       "  <tbody>\n",
       "    <tr>\n",
       "      <th>0</th>\n",
       "      <td>0</td>\n",
       "      <td>He most likely converted to islam due to his n...</td>\n",
       "      <td>0</td>\n",
       "      <td>0</td>\n",
       "      <td>0</td>\n",
       "      <td>0</td>\n",
       "      <td>0</td>\n",
       "      <td>0</td>\n",
       "      <td>0</td>\n",
       "      <td>0</td>\n",
       "      <td>...</td>\n",
       "      <td>0</td>\n",
       "      <td>0</td>\n",
       "      <td>0</td>\n",
       "      <td>0</td>\n",
       "      <td>gab_kennedy_0</td>\n",
       "      <td>[0, 0, 0]</td>\n",
       "      <td>0</td>\n",
       "      <td>[0, 0, 0, 0, 0, 0, 0, 0, 0, 0]</td>\n",
       "      <td>he most likely converted to islam due to his n...</td>\n",
       "      <td>he most likely converted to islam due to his n...</td>\n",
       "    </tr>\n",
       "    <tr>\n",
       "      <th>1</th>\n",
       "      <td>0</td>\n",
       "      <td>https://www.youtube.com/watch?v=kACWpKAKtak A ...</td>\n",
       "      <td>0</td>\n",
       "      <td>0</td>\n",
       "      <td>0</td>\n",
       "      <td>0</td>\n",
       "      <td>0</td>\n",
       "      <td>0</td>\n",
       "      <td>0</td>\n",
       "      <td>0</td>\n",
       "      <td>...</td>\n",
       "      <td>0</td>\n",
       "      <td>0</td>\n",
       "      <td>0</td>\n",
       "      <td>0</td>\n",
       "      <td>gab_kennedy_1</td>\n",
       "      <td>[0, 0, 0]</td>\n",
       "      <td>0</td>\n",
       "      <td>[0, 0, 0, 0, 0, 0, 0, 0, 0, 0]</td>\n",
       "      <td>&lt;url&gt; talk on natural law.</td>\n",
       "      <td>&lt;url&gt; talk on natural law.</td>\n",
       "    </tr>\n",
       "  </tbody>\n",
       "</table>\n",
       "<p>2 rows × 21 columns</p>\n",
       "</div>"
      ],
      "text/plain": [
       "   index                                               text  hd  cv  vo  rel  \\\n",
       "0      0  He most likely converted to islam due to his n...   0   0   0    0   \n",
       "1      0  https://www.youtube.com/watch?v=kACWpKAKtak A ...   0   0   0    0   \n",
       "\n",
       "   rae  sxo  gen  idl  ...  pol  mph  ex  im             id label_orig  \\\n",
       "0    0    0    0    0  ...    0    0   0   0  gab_kennedy_0  [0, 0, 0]   \n",
       "1    0    0    0    0  ...    0    0   0   0  gab_kennedy_1  [0, 0, 0]   \n",
       "\n",
       "  label_bin                    label_target  \\\n",
       "0         0  [0, 0, 0, 0, 0, 0, 0, 0, 0, 0]   \n",
       "1         0  [0, 0, 0, 0, 0, 0, 0, 0, 0, 0]   \n",
       "\n",
       "                                            text_std  \\\n",
       "0  he most likely converted to islam due to his n...   \n",
       "1                         <url> talk on natural law.   \n",
       "\n",
       "                                            text_all  \n",
       "0  he most likely converted to islam due to his n...  \n",
       "1                         <url> talk on natural law.  \n",
       "\n",
       "[2 rows x 21 columns]"
      ]
     },
     "execution_count": 97,
     "metadata": {},
     "output_type": "execute_result"
    }
   ],
   "source": [
    "k['text_std'] = k.text.apply(lambda x: process_tweet_bert(x, dict(), seg_tw, verbose=False))\n",
    "k['text_all'] = k.text_std\n",
    "k.head(2)"
   ]
  },
  {
   "cell_type": "code",
   "execution_count": 98,
   "id": "90782adb-4eb7-4041-b289-27695ca39092",
   "metadata": {},
   "outputs": [],
   "source": [
    "assert check_unique(k)\n",
    "k[[c for c in std_columns if c in k.columns]].to_csv(save_dir + 'gab_kennedy.csv', sep=sep)\n",
    "del k"
   ]
  },
  {
   "cell_type": "markdown",
   "id": "e1c5fb63-5055-4534-bb70-4bb6f8149402",
   "metadata": {},
   "source": [
    "## 12. SAB \n",
    "- test set provided\n",
    "- contains implicit hate speech + all annotatoions --> needs distillation\n",
    "- Use target_category as key for label_target\n",
    "- Use offensiveYN for label_bin --> NOT MULTILABLE CLASSIFICATION"
   ]
  },
  {
   "cell_type": "code",
   "execution_count": 99,
   "id": "84470760-38bd-4788-8ebc-fc411a97dc8b",
   "metadata": {},
   "outputs": [
    {
     "data": {
      "text/html": [
       "<div>\n",
       "<style scoped>\n",
       "    .dataframe tbody tr th:only-of-type {\n",
       "        vertical-align: middle;\n",
       "    }\n",
       "\n",
       "    .dataframe tbody tr th {\n",
       "        vertical-align: top;\n",
       "    }\n",
       "\n",
       "    .dataframe thead th {\n",
       "        text-align: right;\n",
       "    }\n",
       "</style>\n",
       "<table border=\"1\" class=\"dataframe\">\n",
       "  <thead>\n",
       "    <tr style=\"text-align: right;\">\n",
       "      <th></th>\n",
       "      <th>whoTarget</th>\n",
       "      <th>intentYN</th>\n",
       "      <th>sexYN</th>\n",
       "      <th>sexReason</th>\n",
       "      <th>offensiveYN</th>\n",
       "      <th>annotatorGender</th>\n",
       "      <th>annotatorMinority</th>\n",
       "      <th>sexPhrase</th>\n",
       "      <th>speakerMinorityYN</th>\n",
       "      <th>WorkerId</th>\n",
       "      <th>HITId</th>\n",
       "      <th>annotatorPolitics</th>\n",
       "      <th>annotatorRace</th>\n",
       "      <th>annotatorAge</th>\n",
       "      <th>post</th>\n",
       "      <th>targetMinority</th>\n",
       "      <th>targetCategory</th>\n",
       "      <th>targetStereotype</th>\n",
       "    </tr>\n",
       "  </thead>\n",
       "  <tbody>\n",
       "    <tr>\n",
       "      <th>0</th>\n",
       "      <td>0.0</td>\n",
       "      <td>0.66</td>\n",
       "      <td>0.0</td>\n",
       "      <td>NaN</td>\n",
       "      <td>1.0</td>\n",
       "      <td>woman</td>\n",
       "      <td>NaN</td>\n",
       "      <td>NaN</td>\n",
       "      <td>NaN</td>\n",
       "      <td>-8935932304856669427</td>\n",
       "      <td>363A7XIFV4G2799C5V96YERJA9AVAM</td>\n",
       "      <td>liberal</td>\n",
       "      <td>white</td>\n",
       "      <td>45.0</td>\n",
       "      <td>RT @_LexC__: I'm convinced that some of y'all ...</td>\n",
       "      <td>NaN</td>\n",
       "      <td>NaN</td>\n",
       "      <td>NaN</td>\n",
       "    </tr>\n",
       "  </tbody>\n",
       "</table>\n",
       "</div>"
      ],
      "text/plain": [
       "   whoTarget  intentYN  sexYN sexReason  offensiveYN annotatorGender  \\\n",
       "0        0.0      0.66    0.0       NaN          1.0           woman   \n",
       "\n",
       "  annotatorMinority sexPhrase  speakerMinorityYN             WorkerId  \\\n",
       "0               NaN       NaN                NaN -8935932304856669427   \n",
       "\n",
       "                            HITId annotatorPolitics annotatorRace  \\\n",
       "0  363A7XIFV4G2799C5V96YERJA9AVAM           liberal         white   \n",
       "\n",
       "   annotatorAge                                               post  \\\n",
       "0          45.0  RT @_LexC__: I'm convinced that some of y'all ...   \n",
       "\n",
       "  targetMinority targetCategory targetStereotype  \n",
       "0            NaN            NaN              NaN  "
      ]
     },
     "execution_count": 99,
     "metadata": {},
     "output_type": "execute_result"
    }
   ],
   "source": [
    "sb_train = pd.read_csv(\"social_bias/SBFv2.trn.csv\")\n",
    "sb_test = pd.read_csv(\"social_bias/SBFv2.tst.csv\")\n",
    "sb_train.head(1)"
   ]
  },
  {
   "cell_type": "code",
   "execution_count": 100,
   "id": "273a9d41-f237-4cf0-a416-89c2f4a55145",
   "metadata": {},
   "outputs": [],
   "source": [
    "# train test mutual exclusive?\n",
    "assert len(set(sb_train.HITId).intersection(set(sb_test.HITId))) == 0\n",
    "sb_all = pd.concat([sb_train, sb_test])"
   ]
  },
  {
   "cell_type": "code",
   "execution_count": 101,
   "id": "1fcd9920-b8d4-4b2b-893b-48302abc9a7f",
   "metadata": {},
   "outputs": [],
   "source": [
    "sb = sb_all[['HITId', 'post']].drop_duplicates()\n",
    "assert sb.shape[0] == sb.HITId.nunique()\n",
    "sb.set_index('HITId', inplace=True)"
   ]
  },
  {
   "cell_type": "code",
   "execution_count": 102,
   "id": "2c63aa6a-e7d1-46e8-96eb-2ad83bc75715",
   "metadata": {},
   "outputs": [
    {
     "name": "stdout",
     "output_type": "stream",
     "text": [
      "number of categories in target Minority: 1180\n"
     ]
    },
    {
     "data": {
      "text/plain": [
       "array([nan, 'race', 'gender', 'social', 'body', 'culture', 'disabled',\n",
       "       'victim'], dtype=object)"
      ]
     },
     "execution_count": 102,
     "metadata": {},
     "output_type": "execute_result"
    }
   ],
   "source": [
    "# too many catogories, cannot be used for testing \n",
    "print(\"number of categories in target Minority:\", len((sb_train.targetMinority.unique())))\n",
    "sb_all.targetCategory.unique()"
   ]
  },
  {
   "cell_type": "code",
   "execution_count": 103,
   "id": "a34c400a-88a5-4529-8a96-c8ef0d435787",
   "metadata": {},
   "outputs": [],
   "source": [
    "# proces offensiveYN \n",
    "offense = pd.DataFrame(sb_all.groupby('HITId')['offensiveYN'].mean())"
   ]
  },
  {
   "cell_type": "code",
   "execution_count": 104,
   "id": "92e189e4-19b7-4902-92f5-3a787bb6a30a",
   "metadata": {},
   "outputs": [],
   "source": [
    "# process target\n",
    "sb_target = pd.pivot_table(sb_all, index='HITId', columns='targetCategory', values='WorkerId', aggfunc='count')\n",
    "sb_targetdict = {i: c for i, c in enumerate(sb_target.columns)}"
   ]
  },
  {
   "cell_type": "code",
   "execution_count": 105,
   "id": "52e88820-b3ae-4832-9c0b-7f6f57cbbef9",
   "metadata": {},
   "outputs": [],
   "source": [
    "target = pd.DataFrame(sb_target.apply(lambda x: np.argmax(x), axis=1))\n",
    "target.columns=['targetCategory']"
   ]
  },
  {
   "cell_type": "code",
   "execution_count": 106,
   "id": "ebeb752b-fa2b-4250-ab14-625732cbf3db",
   "metadata": {},
   "outputs": [],
   "source": [
    "sb = pd.concat([sb, offense, target], axis=1)"
   ]
  },
  {
   "cell_type": "code",
   "execution_count": 107,
   "id": "39640e91-ac1b-4abf-b68c-3e53cc0bcfd4",
   "metadata": {},
   "outputs": [],
   "source": [
    "## standardize variables\n",
    "sb['label_bin'] = sb.offensiveYN.apply(lambda x:1 if x>= 0.5 else 0)\n",
    "sb['label_orig'] = sb.label_bin\n",
    "# no-categories are set at 0\n",
    "sb['label_target'] = sb.targetCategory.apply(lambda x : int(x) + 1 if x == x else 0 )"
   ]
  },
  {
   "cell_type": "code",
   "execution_count": 108,
   "id": "5cf67f94-6cda-43cc-962c-fda245474daf",
   "metadata": {},
   "outputs": [],
   "source": [
    "sb['text_std'] = sb.post.apply(lambda x: process_tweet_bert(x, dict(), seg_tw, verbose=False))"
   ]
  },
  {
   "cell_type": "code",
   "execution_count": 109,
   "id": "c19c7b0b-9909-4080-88fb-35b48307d437",
   "metadata": {},
   "outputs": [],
   "source": [
    "sb.reset_index(inplace=True)\n",
    "sb['id'] = 'sab_' + sb.HITId\n",
    "sb['text_all'] = sb.post"
   ]
  },
  {
   "cell_type": "code",
   "execution_count": 110,
   "id": "eb7a63ae-50ae-4d87-aa2d-1ef216b3a478",
   "metadata": {},
   "outputs": [],
   "source": [
    "# set_seed(SEED)\n",
    "# sab_train = sb.loc[sb.HITId.isin(sb_train.HITId),std_columns + ['label_orig', 'label_target'] ]\n",
    "# sab_test = sb.loc[sb.HITId.isin(sb_test.HITId),std_columns + ['label_orig', 'label_target'] ]\n",
    "# sab_test = sab_test.sample(n=2000, random_state=SEED)"
   ]
  },
  {
   "cell_type": "code",
   "execution_count": 111,
   "id": "b550a300-802f-4006-98d8-e844f653656b",
   "metadata": {},
   "outputs": [],
   "source": [
    "assert check_unique(sb)\n",
    "sb[[c for c in std_columns if c in sb.columns]].to_csv(save_dir + 'sab.csv', sep=sep)\n",
    "del sb"
   ]
  },
  {
   "cell_type": "code",
   "execution_count": null,
   "id": "450053f5-aa61-4cab-887f-0e5f3d44e96a",
   "metadata": {},
   "outputs": [],
   "source": []
  },
  {
   "cell_type": "code",
   "execution_count": null,
   "id": "03bad5eb-9bce-4de4-9bce-9eb82a26c539",
   "metadata": {},
   "outputs": [],
   "source": []
  }
 ],
 "metadata": {
  "kernelspec": {
   "display_name": "covid_hate",
   "language": "python",
   "name": "covid_hate"
  },
  "language_info": {
   "codemirror_mode": {
    "name": "ipython",
    "version": 3
   },
   "file_extension": ".py",
   "mimetype": "text/x-python",
   "name": "python",
   "nbconvert_exporter": "python",
   "pygments_lexer": "ipython3",
   "version": "3.8.12"
  }
 },
 "nbformat": 4,
 "nbformat_minor": 5
}
